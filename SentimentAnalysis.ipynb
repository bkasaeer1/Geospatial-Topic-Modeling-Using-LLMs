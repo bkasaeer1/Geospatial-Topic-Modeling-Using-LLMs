{
 "cells": [
  {
   "cell_type": "markdown",
   "metadata": {},
   "source": [
    "# Import Libraries & Set up the Environment\n",
    "The below code establishes the environment for a data analysis project involving geospatial data, sentiment analysis, and data visualization. It begins by importing a variety of libraries, including geospatial processing with geopandas, data manipulation with pandas, and sentiment analysis using VADER. It configures settings for the IPython shell to ensure comprehensive output display and maximum column visibility for data frames. The script defines the rt variable to specify the project's output directory path, facilitating file access. This setup enables efficient data analysis, sentiment scoring, and data visualization, making it a robust foundation for geospatial projects that involve sentiment analysis of large datasets."
   ]
  },
  {
   "cell_type": "code",
   "execution_count": 2,
   "metadata": {},
   "outputs": [],
   "source": [
    "import geopandas as gpd\n",
    "import pandas as pd\n",
    "import arcpy\n",
    "import os\n",
    "from pyproj import Transformer\n",
    "import numpy as np\n",
    "import math\n",
    "import re\n",
    "from datetime import datetime, timedelta\n",
    "from functools import reduce\n",
    "import seaborn as sns\n",
    "import matplotlib.pyplot as plt\n",
    "\n",
    "from vaderSentiment.vaderSentiment import SentimentIntensityAnalyzer\n",
    "from IPython.core.interactiveshell import InteractiveShell\n",
    "\n",
    "InteractiveShell.ast_node_interactivity = \"all\"\n",
    "pd.set_option('display.max_columns', None)\n",
    "# the path to your local directory containing all project files\n",
    "rt = r'path/to/your/project/output/directory'"
   ]
  },
  {
   "cell_type": "markdown",
   "metadata": {},
   "source": [
    "# Write Functions for Cleaning Tweets  \n",
    "The below code provided consists of two functions used to clean and modify text data. The first function, remove_pattern, takes two inputs: input_txt (a text string) and pattern (a regular expression pattern). It processes the input text by finding and removing patterns that match the given regular expression. The function returns the modified input_txt with the specified patterns removed. The second function, clean_tweets, takes a list or array of tweet texts as input. It uses the remove_pattern function to apply several cleaning operations to the tweet texts, such as removing Twitter return handles (e.g., \"RT @xxx:\"), Twitter handles (e.g., \"@xxx\"), URL links, and special characters, numbers, and punctuations (except for the '#' symbol). The function returns the same list of tweets with these cleaning operations applied."
   ]
  },
  {
   "cell_type": "code",
   "execution_count": 3,
   "metadata": {},
   "outputs": [],
   "source": [
    "def remove_pattern(input_txt, pattern):\n",
    "    \n",
    "    \"\"\"\n",
    "    This function is used to clean and modify text data by removing specific patterns based on the regular expression \n",
    "\n",
    "    INPUTS:\n",
    "    input_txt: This is a text string that you want to process and remove certain patterns from.\n",
    "    pattern: This is a regular expression pattern that defines what you want to find and remove from the input_txt.\n",
    "\n",
    "    OUTPUTS: \n",
    "    the function returns the modified input_txt with the specified patterns removed\n",
    "    \"\"\"\n",
    "\n",
    "    r = re.findall(pattern, input_txt)\n",
    "    for i in r:\n",
    "        input_txt = re.sub(i, '', input_txt)        \n",
    "    return input_txt\n",
    "\n",
    "def clean_tweets(tweets):\n",
    "    \n",
    "    \"\"\"\n",
    "    This function is used to clean and modify text data using several pattern removings\n",
    "\n",
    "    INPUTS:\n",
    "    tweets: This is a list or array of tweet texts that you want to clean.\n",
    "\n",
    "    OUTPUTS: \n",
    "    the function returns the same list of tweets, but with several cleaning operations applied.\n",
    "    \"\"\"\n",
    "    \n",
    "    #remove twitter Return handles (RT @xxx:)\n",
    "    tweets = np.vectorize(remove_pattern)(tweets, \"RT @[\\w]*:\") \n",
    "    \n",
    "    #remove twitter handles (@xxx)\n",
    "    tweets = np.vectorize(remove_pattern)(tweets, \"@[\\w]*\")\n",
    "    \n",
    "    #remove URL links (httpxxx)\n",
    "    tweets = np.vectorize(remove_pattern)(tweets, \"https?://[A-Za-z0-9./]*\")\n",
    "    \n",
    "    #remove special characters, numbers, punctuations (except for #)\n",
    "    tweets = np.core.defchararray.replace(tweets, \"[^a-zA-Z]\", \" \")\n",
    "    \n",
    "    return tweets"
   ]
  },
  {
   "cell_type": "markdown",
   "metadata": {},
   "source": [
    "# Step 1: Read & Preprocess The Collected Tweets\n",
    "In this step, the scraped tweets using which was collected using TweetParser.py is read in a Pandas dataframe and duplicate records are removed. The reason for duplicates is that some of the buffer areas created to geographically collect the tweets from various US states had some minor overlap and those duplicated rows should be dropped prior to the analysis. "
   ]
  },
  {
   "cell_type": "code",
   "execution_count": 4,
   "metadata": {},
   "outputs": [],
   "source": [
    "#read data as a Pandas df \n",
    "COVID_df = pd.read_csv(rt + '\\\\CollectedTweets.csv')\n",
    "#drop duplicated records\n",
    "COVID_df = COVID_df.drop_duplicates()"
   ]
  },
  {
   "cell_type": "markdown",
   "metadata": {},
   "source": [
    "# Step 2: Create a US States Geodataframe \n",
    "In this step, a GeoDataFrame for U.S. states is created by reading a shapefile and selecting specific fields such as state geometry, postal abbreviations, names, and land area. Additionally, U.S. region information is added to the GeoDataFrame by merging it with a crosswalk table, which associates states with their respective regions. The resulting GeoDataFrame, gdf_States, contains comprehensive geographical and regional data for U.S. states, facilitating further spatial analysis and mapping applications."
   ]
  },
  {
   "cell_type": "code",
   "execution_count": 5,
   "metadata": {},
   "outputs": [],
   "source": [
    "#reference: https://www.census.gov/geographies/mapping-files/time-series/geo/carto-boundary-file.html\n",
    "state_shp = r'path/to/your/census/states/boundaries/shapefile'\n",
    "#reference: https://github.com/cphalpert/census-regions/blob/master/us%20census%20bureau%20regions%20and%20divisions.csv\n",
    "usa_regions_cw = r'path/to/your/usa/state/regions/crosswalk/csv'\n",
    "\n",
    "#list of fields to keep from states geodataframe\n",
    "ST_fs = ['geometry','STUSPS','NAME','ALAND']\n",
    "\n",
    "#read the states data shapefile as gdf\n",
    "gdf_States = gpd.read_file(state_shp, crs = {'init': 'epsg:4326'}, usecols = ST_fs)[ST_fs]\n",
    "\n",
    "#add US regions\n",
    "df_USregionCW = pd.read_csv(usa_regions_cw)\n",
    "\n",
    "#merge the above two dataframes to have a full set of state features with their region\n",
    "gdf_States = pd.merge(gdf_States, df_USregionCW[['State','Region']], \n",
    "                      left_on='NAME', right_on = 'State', \n",
    "                      how='left').fillna('US Territory').drop('State', axis=1)"
   ]
  },
  {
   "cell_type": "markdown",
   "metadata": {},
   "source": [
    "# Step 3: Clean the Tweets\n",
    "In this step, the collected tweets are cleaned using the pattern removed functions."
   ]
  },
  {
   "cell_type": "code",
   "execution_count": 6,
   "metadata": {},
   "outputs": [
    {
     "name": "stdout",
     "output_type": "stream",
     "text": [
      "Wall time: 1min 13s\n"
     ]
    },
    {
     "data": {
      "text/plain": [
       "0    Why does he still do daily covid announcements...\n",
       "1    \"Fauci Says Border Facilities Holding Migrant ...\n",
       "2    In the classroom, teachers say things have got...\n",
       "3      While  the governor of West Virginia has set...\n",
       "4     And-yes, in regards to the entire Covid Circu...\n",
       "Name: clean_tweets, dtype: object"
      ]
     },
     "execution_count": 6,
     "metadata": {},
     "output_type": "execute_result"
    }
   ],
   "source": [
    "%%time\n",
    "#apply the pattern removed functions on the tweets\n",
    "COVID_df['clean_tweets'] = clean_tweets(COVID_df['content'])\n",
    "#show the top records\n",
    "COVID_df['clean_tweets'].head()"
   ]
  },
  {
   "cell_type": "markdown",
   "metadata": {},
   "source": [
    "# Step 4:  Calculate Polarity Score\n",
    "I utilized VADER sentiment analysis to assess the polarity of COVID-related tweets. Vader is a useful method for quickly gauging public sentiment in social media data. It offers several advantages, including its simplicity, speed, and effectiveness in processing short, informal text. "
   ]
  },
  {
   "cell_type": "code",
   "execution_count": 7,
   "metadata": {},
   "outputs": [
    {
     "name": "stdout",
     "output_type": "stream",
     "text": [
      "Wall time: 5min 25s\n"
     ]
    },
    {
     "data": {
      "text/html": [
       "<div>\n",
       "<style scoped>\n",
       "    .dataframe tbody tr th:only-of-type {\n",
       "        vertical-align: middle;\n",
       "    }\n",
       "\n",
       "    .dataframe tbody tr th {\n",
       "        vertical-align: top;\n",
       "    }\n",
       "\n",
       "    .dataframe thead th {\n",
       "        text-align: right;\n",
       "    }\n",
       "</style>\n",
       "<table border=\"1\" class=\"dataframe\">\n",
       "  <thead>\n",
       "    <tr style=\"text-align: right;\">\n",
       "      <th></th>\n",
       "      <th>user</th>\n",
       "      <th>date</th>\n",
       "      <th>content</th>\n",
       "      <th>user_location</th>\n",
       "      <th>searched_location</th>\n",
       "      <th>clean_tweets</th>\n",
       "      <th>compound_polarity</th>\n",
       "    </tr>\n",
       "  </thead>\n",
       "  <tbody>\n",
       "    <tr>\n",
       "      <th>0</th>\n",
       "      <td>{'username': 'Rachael_wv', 'displayname': 'Rac...</td>\n",
       "      <td>2021-05-06 23:18:26+00:00</td>\n",
       "      <td>Why does he still do daily covid announcements...</td>\n",
       "      <td>West Virginia</td>\n",
       "      <td>WV</td>\n",
       "      <td>Why does he still do daily covid announcements...</td>\n",
       "      <td>-0.5514</td>\n",
       "    </tr>\n",
       "  </tbody>\n",
       "</table>\n",
       "</div>"
      ],
      "text/plain": [
       "                                                user  \\\n",
       "0  {'username': 'Rachael_wv', 'displayname': 'Rac...   \n",
       "\n",
       "                        date  \\\n",
       "0  2021-05-06 23:18:26+00:00   \n",
       "\n",
       "                                             content   user_location  \\\n",
       "0  Why does he still do daily covid announcements...  West Virginia    \n",
       "\n",
       "  searched_location                                       clean_tweets  \\\n",
       "0                WV  Why does he still do daily covid announcements...   \n",
       "\n",
       "   compound_polarity  \n",
       "0            -0.5514  "
      ]
     },
     "execution_count": 7,
     "metadata": {},
     "output_type": "execute_result"
    }
   ],
   "source": [
    "%%time\n",
    "analyzer = SentimentIntensityAnalyzer()\n",
    "scores = []\n",
    "_ = [scores.append(analyzer.polarity_scores(row['clean_tweets'])['compound']) for _, row in COVID_df.iterrows()]\n",
    "COVID_df['compound_polarity'] = scores\n",
    "COVID_df.head(1)"
   ]
  },
  {
   "cell_type": "markdown",
   "metadata": {},
   "source": [
    "# Step 5: Calculate Average Tweets Polarity of US States\n",
    "In this step, the code calculates the average polarity of tweets for U.S. states, enabling a nationwide comparison during the Trump and Biden presidencies. The code starts by processing tweet data, differentiating tweets between the two presidents. It then aggregates sentiment scores (compound polarity) for the full period, Biden's term, and Trump's term, respectively. The resulting dataframes are merged, and initial analysis shows that average compound scores are close to neutral. Subsequent exploration focuses on negative and positive comments to gain further insights."
   ]
  },
  {
   "cell_type": "code",
   "execution_count": 8,
   "metadata": {},
   "outputs": [
    {
     "data": {
      "text/html": [
       "<div>\n",
       "<style scoped>\n",
       "    .dataframe tbody tr th:only-of-type {\n",
       "        vertical-align: middle;\n",
       "    }\n",
       "\n",
       "    .dataframe tbody tr th {\n",
       "        vertical-align: top;\n",
       "    }\n",
       "\n",
       "    .dataframe thead th {\n",
       "        text-align: right;\n",
       "    }\n",
       "</style>\n",
       "<table border=\"1\" class=\"dataframe\">\n",
       "  <thead>\n",
       "    <tr style=\"text-align: right;\">\n",
       "      <th></th>\n",
       "      <th>FullScore</th>\n",
       "      <th>BidenScore</th>\n",
       "      <th>TrumpScore</th>\n",
       "    </tr>\n",
       "    <tr>\n",
       "      <th>searched_location</th>\n",
       "      <th></th>\n",
       "      <th></th>\n",
       "      <th></th>\n",
       "    </tr>\n",
       "  </thead>\n",
       "  <tbody>\n",
       "    <tr>\n",
       "      <th>AK</th>\n",
       "      <td>0.016729</td>\n",
       "      <td>0.019691</td>\n",
       "      <td>0.009553</td>\n",
       "    </tr>\n",
       "    <tr>\n",
       "      <th>AL</th>\n",
       "      <td>0.061429</td>\n",
       "      <td>0.059752</td>\n",
       "      <td>0.062749</td>\n",
       "    </tr>\n",
       "  </tbody>\n",
       "</table>\n",
       "</div>"
      ],
      "text/plain": [
       "                   FullScore  BidenScore  TrumpScore\n",
       "searched_location                                   \n",
       "AK                  0.016729    0.019691    0.009553\n",
       "AL                  0.061429    0.059752    0.062749"
      ]
     },
     "execution_count": 8,
     "metadata": {},
     "output_type": "execute_result"
    }
   ],
   "source": [
    "# create a date field\n",
    "COVID_df['Datetime'] = pd.DatetimeIndex(pd.to_datetime(COVID_df['date'])).tz_localize(None)\n",
    "\n",
    "#create a date to specify first day of Biden administration\n",
    "BidenStartDate = pd.to_datetime('2021-01-20').tz_localize(None)\n",
    "\n",
    "#now add a President column to specify which period does tweets belong to\n",
    "COVID_df['President'] = np.where(COVID_df.Datetime >= BidenStartDate,'Biden','Trump')\n",
    "\n",
    "#now calculate aggregated scores for Biden and Trump per searched location \n",
    "AggCols = ['searched_location','compound_polarity']\n",
    "FullScore = COVID_df[AggCols].groupby('searched_location').mean().rename({'compound_polarity':'FullScore'}, axis = 1)\n",
    "BidenScore = COVID_df.loc[COVID_df.President == 'Biden', AggCols].groupby(\n",
    "    'searched_location').mean().rename({'compound_polarity':'BidenScore'}, axis = 1)\n",
    "TrumpScore = COVID_df.loc[COVID_df.President == 'Trump', AggCols].groupby(\n",
    "    'searched_location').mean().rename({'compound_polarity':'TrumpScore'}, axis = 1)\n",
    "\n",
    "#merge the three score dfs  \n",
    "dfaggs = [FullScore, BidenScore, TrumpScore]\n",
    "dfaggs = reduce(lambda left, right: pd.merge(left, right, how = 'outer', left_index = True, right_index = True), dfaggs)\n",
    "dfaggs.head(2)"
   ]
  },
  {
   "cell_type": "markdown",
   "metadata": {},
   "source": [
    "# Step 6: Analyze Negative and Positive Tweets\n",
    "In this step, the code conducts an analysis of negative and positive sentiment scores separately for each president's term. It creates dataframes for negative (COVID_Neg) and positive (COVID_Pos) tweets based on polarity thresholds. The lengths of these dataframes indicate substantial counts of both negative and positive tweets, with negative tweets totaling approximately 441k and positive tweets about 537k. The code then generates a count plot illustrating the number of negative pandemic-related tweets for each state during the Trump and Biden administrations. The plot highlights that states with larger cities, such as New York and California, exhibit significantly higher tweet counts. Most states show slightly more negative comments for Trump, although the difference in counts is generally minor."
   ]
  },
  {
   "cell_type": "code",
   "execution_count": 9,
   "metadata": {},
   "outputs": [
    {
     "data": {
      "text/plain": [
       "441322"
      ]
     },
     "execution_count": 9,
     "metadata": {},
     "output_type": "execute_result"
    },
    {
     "data": {
      "text/plain": [
       "537610"
      ]
     },
     "execution_count": 9,
     "metadata": {},
     "output_type": "execute_result"
    },
    {
     "data": {
      "image/png": "[encoded data removed]",
      "text/plain": [
       "<Figure size 1080x576 with 1 Axes>"
      ]
     },
     "metadata": {},
     "output_type": "display_data"
    }
   ],
   "source": [
    "#seperate negative and positive tweets based on the compound polarity score\n",
    "COVID_Neg = COVID_df[COVID_df.compound_polarity <= -0.05].sort_values(['searched_location','President'])\n",
    "COVID_Pos = COVID_df[COVID_df.compound_polarity >= 0.05].sort_values(['searched_location','President'])\n",
    "\n",
    "#check the total number of negative and positive tweets\n",
    "len(COVID_Neg)\n",
    "len(COVID_Pos)\n",
    "\n",
    "#plot counts of negative tweets per state for each administration \n",
    "sns.set(font_scale = 1.2)\n",
    "fig = plt.figure(figsize = (15,8))\n",
    "#creat an axis to plot\n",
    "ax1 = fig.add_subplot(111)\n",
    "_ = plt.xticks(rotation = 90)\n",
    "ax = sns.countplot(x = \"searched_location\", hue='President', ax = ax1, data = COVID_Neg)\n",
    "_ = ax1.set_yscale('log')\n",
    "_ = ax.set_title('Number of Negative Pandemic-Related Tweets in Each State during Trump vs. Biden Administrations')"
   ]
  },
  {
   "cell_type": "markdown",
   "metadata": {},
   "source": [
    "# Step 7: Analyze Compound Score of Negative Tweets\n",
    "In this step, the code analyzes the compound scores of negative pandemic-related tweets for each state during the Trump and Biden administrations. It creates a bar plot illustrating the compound polarity scores with states on the x-axis and scores on the y-axis, color-coded by the President. The plot indicates that, in most states, the compound scores for negative tweets are higher for Trump than for Biden. However, there are exceptions in states like Wyoming (WY), Hawaii (HI), Guam (GU), and South Dakota (SD). The code suggests that mapping the change in negative scores of tweets during the transition from the Trump to Biden administration would be a valuable analysis. "
   ]
  },
  {
   "cell_type": "code",
   "execution_count": 10,
   "metadata": {},
   "outputs": [
    {
     "data": {
      "image/png": "[encoded data removed]",
      "text/plain": [
       "<Figure size 1080x576 with 1 Axes>"
      ]
     },
     "metadata": {},
     "output_type": "display_data"
    }
   ],
   "source": [
    "#plot counts of negative tweets per state for each administration\n",
    "sns.set(font_scale = 1.2)\n",
    "fig = plt.figure(figsize = (15,8))\n",
    "ax1 = fig.add_subplot(111)\n",
    "_ = plt.xticks(rotation = 90)\n",
    "_ = plt.ylim(-0.4, -0.6)\n",
    "ax = sns.barplot(x = \"searched_location\",y = 'compound_polarity',hue = 'President', \n",
    "                 ax = ax1, data = COVID_Neg, ci = None)\n",
    "_ = ax.set_title('Compound Score for Negative Pandemic-Related Tweets in Each State during Trump vs. Biden Administrations')"
   ]
  },
  {
   "cell_type": "markdown",
   "metadata": {},
   "source": [
    "# Step 8: Analyze Change in Polarity of Negative and Positive Tweets Between Administrations\n",
    "In this step, the code calculates and maps the change in average negative and positive scores of tweets during the transition from the Trump to Biden administration. It computes the change in polarity of negative and positive tweets and adds this information to the states' geospatial data frame (gdf_States). The analysis indicates that the change in average negativity appears more significant than the change in positivity following the Biden administration, based on the summary of the PosScoreChange_COVID data."
   ]
  },
  {
   "cell_type": "code",
   "execution_count": 231,
   "metadata": {},
   "outputs": [
    {
     "data": {
      "text/html": [
       "<div>\n",
       "<style scoped>\n",
       "    .dataframe tbody tr th:only-of-type {\n",
       "        vertical-align: middle;\n",
       "    }\n",
       "\n",
       "    .dataframe tbody tr th {\n",
       "        vertical-align: top;\n",
       "    }\n",
       "\n",
       "    .dataframe thead th {\n",
       "        text-align: right;\n",
       "    }\n",
       "</style>\n",
       "<table border=\"1\" class=\"dataframe\">\n",
       "  <thead>\n",
       "    <tr style=\"text-align: right;\">\n",
       "      <th></th>\n",
       "      <th>geometry</th>\n",
       "      <th>STUSPS</th>\n",
       "      <th>NAME</th>\n",
       "      <th>ALAND</th>\n",
       "      <th>Region</th>\n",
       "      <th>NegScoreChange_COVID</th>\n",
       "    </tr>\n",
       "  </thead>\n",
       "  <tbody>\n",
       "    <tr>\n",
       "      <th>0</th>\n",
       "      <td>POLYGON ((-81.74725 39.09538, -81.74635 39.096...</td>\n",
       "      <td>WV</td>\n",
       "      <td>West Virginia</td>\n",
       "      <td>62266231560</td>\n",
       "      <td>South</td>\n",
       "      <td>0.073916</td>\n",
       "    </tr>\n",
       "  </tbody>\n",
       "</table>\n",
       "</div>"
      ],
      "text/plain": [
       "                                            geometry STUSPS           NAME  \\\n",
       "0  POLYGON ((-81.74725 39.09538, -81.74635 39.096...     WV  West Virginia   \n",
       "\n",
       "         ALAND Region  NegScoreChange_COVID  \n",
       "0  62266231560  South              0.073916  "
      ]
     },
     "execution_count": 231,
     "metadata": {},
     "output_type": "execute_result"
    },
    {
     "data": {
      "text/plain": [
       "count    54.000000\n",
       "mean      0.024586\n",
       "std       0.019684\n",
       "min      -0.044165\n",
       "25%       0.016034\n",
       "50%       0.026986\n",
       "75%       0.029967\n",
       "max       0.073916\n",
       "Name: NegScoreChange_COVID, dtype: float64"
      ]
     },
     "execution_count": 231,
     "metadata": {},
     "output_type": "execute_result"
    },
    {
     "data": {
      "text/html": [
       "<div>\n",
       "<style scoped>\n",
       "    .dataframe tbody tr th:only-of-type {\n",
       "        vertical-align: middle;\n",
       "    }\n",
       "\n",
       "    .dataframe tbody tr th {\n",
       "        vertical-align: top;\n",
       "    }\n",
       "\n",
       "    .dataframe thead th {\n",
       "        text-align: right;\n",
       "    }\n",
       "</style>\n",
       "<table border=\"1\" class=\"dataframe\">\n",
       "  <thead>\n",
       "    <tr style=\"text-align: right;\">\n",
       "      <th></th>\n",
       "      <th>geometry</th>\n",
       "      <th>STUSPS</th>\n",
       "      <th>NAME</th>\n",
       "      <th>ALAND</th>\n",
       "      <th>Region</th>\n",
       "      <th>NegScoreChange_COVID</th>\n",
       "      <th>PosScoreChange_COVID</th>\n",
       "    </tr>\n",
       "  </thead>\n",
       "  <tbody>\n",
       "    <tr>\n",
       "      <th>0</th>\n",
       "      <td>POLYGON ((-81.74725 39.09538, -81.74635 39.096...</td>\n",
       "      <td>WV</td>\n",
       "      <td>West Virginia</td>\n",
       "      <td>62266231560</td>\n",
       "      <td>South</td>\n",
       "      <td>0.073916</td>\n",
       "      <td>0.006173</td>\n",
       "    </tr>\n",
       "  </tbody>\n",
       "</table>\n",
       "</div>"
      ],
      "text/plain": [
       "                                            geometry STUSPS           NAME  \\\n",
       "0  POLYGON ((-81.74725 39.09538, -81.74635 39.096...     WV  West Virginia   \n",
       "\n",
       "         ALAND Region  NegScoreChange_COVID  PosScoreChange_COVID  \n",
       "0  62266231560  South              0.073916              0.006173  "
      ]
     },
     "execution_count": 231,
     "metadata": {},
     "output_type": "execute_result"
    },
    {
     "data": {
      "text/plain": [
       "count    54.000000\n",
       "mean     -0.000661\n",
       "std       0.046536\n",
       "min      -0.087287\n",
       "25%      -0.010771\n",
       "50%      -0.004523\n",
       "75%       0.005285\n",
       "max       0.298337\n",
       "Name: PosScoreChange_COVID, dtype: float64"
      ]
     },
     "execution_count": 231,
     "metadata": {},
     "output_type": "execute_result"
    }
   ],
   "source": [
    "#calculate change in polarity of negative tweets\n",
    "grp_neg = COVID_Neg.groupby(['searched_location','President'], as_index = False).mean().groupby(\n",
    "    'searched_location', as_index = False)\n",
    "NegScoreChange_COVID = pd.DataFrame(data = {\n",
    "    'State':grp_neg.groups.keys(), 'NegScoreChange_COVID':-1*grp_neg.compound_polarity.diff().dropna().compound_polarity})\n",
    "\n",
    "#now add this to the states geodataframe\n",
    "gdf_States = pd.merge(gdf_States, NegScoreChange_COVID, left_on = 'STUSPS',\n",
    "                      right_on = 'State', how='left').drop('State', axis = 1)\n",
    "gdf_States.head(1)\n",
    "gdf_States.NegScoreChange_COVID.describe()\n",
    "\n",
    "#calculate change in polarity of positive tweets\n",
    "grp_pos = COVID_Pos.groupby(['searched_location','President'],as_index = False).mean().groupby(\n",
    "    'searched_location',as_index=False)\n",
    "PosScoreChange_COVID = pd.DataFrame(data={\n",
    "    'State':grp_pos.groups.keys(),'PosScoreChange_COVID':-1*grp_pos.compound_polarity.diff().dropna().compound_polarity})\n",
    "\n",
    "#now add this to the states geodataframe\n",
    "gdf_States = pd.merge(gdf_States, PosScoreChange_COVID,left_on='STUSPS',right_on = 'State',how='left').drop('State',axis = 1)\n",
    "gdf_States.head(1)\n",
    "gdf_States.PosScoreChange_COVID.describe()"
   ]
  },
  {
   "cell_type": "markdown",
   "metadata": {},
   "source": [
    "# Step 9: Calculate Counts of Negative and Positive Tweets \n",
    "In this step, the code adds the counts of negative and positive tweets related to COVID-19 for both the Trump and Biden administrations to the states' geospatial data frame (gdf_States). It calculates the counts of negative and positive tweets separately and assigns them to the respective columns in the geospatial data frame, providing insights into the volume of COVID-19-related tweets during each administration at the state level."
   ]
  },
  {
   "cell_type": "code",
   "execution_count": 232,
   "metadata": {},
   "outputs": [
    {
     "data": {
      "text/html": [
       "<div>\n",
       "<style scoped>\n",
       "    .dataframe tbody tr th:only-of-type {\n",
       "        vertical-align: middle;\n",
       "    }\n",
       "\n",
       "    .dataframe tbody tr th {\n",
       "        vertical-align: top;\n",
       "    }\n",
       "\n",
       "    .dataframe thead th {\n",
       "        text-align: right;\n",
       "    }\n",
       "</style>\n",
       "<table border=\"1\" class=\"dataframe\">\n",
       "  <thead>\n",
       "    <tr style=\"text-align: right;\">\n",
       "      <th></th>\n",
       "      <th>geometry</th>\n",
       "      <th>STUSPS</th>\n",
       "      <th>NAME</th>\n",
       "      <th>ALAND</th>\n",
       "      <th>Region</th>\n",
       "      <th>NegScoreChange_COVID</th>\n",
       "      <th>PosScoreChange_COVID</th>\n",
       "      <th>TrumpNegTweetCount_COVID</th>\n",
       "      <th>BidenNegTweetCount_COVID</th>\n",
       "      <th>TrumpPosTweetCount_COVID</th>\n",
       "      <th>BidenPosTweetCount_COVID</th>\n",
       "    </tr>\n",
       "  </thead>\n",
       "  <tbody>\n",
       "    <tr>\n",
       "      <th>0</th>\n",
       "      <td>POLYGON ((-81.74725 39.09538, -81.74635 39.096...</td>\n",
       "      <td>WV</td>\n",
       "      <td>West Virginia</td>\n",
       "      <td>62266231560</td>\n",
       "      <td>South</td>\n",
       "      <td>0.073916</td>\n",
       "      <td>0.006173</td>\n",
       "      <td>814.0</td>\n",
       "      <td>494.0</td>\n",
       "      <td>743.0</td>\n",
       "      <td>696.0</td>\n",
       "    </tr>\n",
       "  </tbody>\n",
       "</table>\n",
       "</div>"
      ],
      "text/plain": [
       "                                            geometry STUSPS           NAME  \\\n",
       "0  POLYGON ((-81.74725 39.09538, -81.74635 39.096...     WV  West Virginia   \n",
       "\n",
       "         ALAND Region  NegScoreChange_COVID  PosScoreChange_COVID  \\\n",
       "0  62266231560  South              0.073916              0.006173   \n",
       "\n",
       "   TrumpNegTweetCount_COVID  BidenNegTweetCount_COVID  \\\n",
       "0                     814.0                     494.0   \n",
       "\n",
       "   TrumpPosTweetCount_COVID  BidenPosTweetCount_COVID  \n",
       "0                     743.0                     696.0  "
      ]
     },
     "execution_count": 232,
     "metadata": {},
     "output_type": "execute_result"
    }
   ],
   "source": [
    "######Trump's Negative COVID-related Tweet Counts ######\n",
    "TrumpNegTweetCount = COVID_Neg[COVID_Neg.President == 'Trump'].groupby(\n",
    "    'searched_location',as_index = False).count()[['searched_location','user']].rename(\n",
    "    columns = {'user':'TrumpNegTweetCount_COVID'})\n",
    "#now add this to the states geodataframe\n",
    "gdf_States = pd.merge(gdf_States, TrumpNegTweetCount, left_on = 'STUSPS', right_on = 'searched_location', how='left').drop(\n",
    "    'searched_location',axis = 1)\n",
    "\n",
    "######Biden's Negative COVID-related Tweet Counts ######\n",
    "BidenNegTweetCount = COVID_Neg[COVID_Neg.President == 'Biden'].groupby(\n",
    "    'searched_location', as_index=False).count()[['searched_location','user']].rename(\n",
    "    columns = {'user':'BidenNegTweetCount_COVID'})\n",
    "#now add this to the states geodataframe\n",
    "gdf_States = pd.merge(gdf_States, BidenNegTweetCount, left_on = 'STUSPS', right_on = 'searched_location', how = 'left').drop(\n",
    "    'searched_location',axis = 1)\n",
    "\n",
    "######Trump Pos COVID Tweet Counts ######\n",
    "TrumpPosTweetCount = COVID_Pos[COVID_Pos.President == 'Trump'].groupby(\n",
    "    'searched_location',as_index = False).count()[['searched_location','user']].rename(\n",
    "    columns = {'user':'TrumpPosTweetCount_COVID'})\n",
    "#now add this to the states geodataframe\n",
    "gdf_States = pd.merge(gdf_States, TrumpPosTweetCount,left_on = 'STUSPS', right_on = 'searched_location',how = 'left').drop(\n",
    "    'searched_location', axis = 1)\n",
    "\n",
    "######Biden Pos COVID Tweet Counts ######\n",
    "BidenPosTweetCount = COVID_Pos[COVID_Pos.President == 'Biden'].groupby(\n",
    "    'searched_location',as_index = False).count()[['searched_location','user']].rename(\n",
    "    columns = {'user':'BidenPosTweetCount_COVID'})\n",
    "#now add this to the states geodataframe\n",
    "gdf_States = pd.merge(gdf_States,BidenPosTweetCount, left_on = 'STUSPS', right_on = 'searched_location', how = 'left').drop(\n",
    "    'searched_location', axis = 1)\n",
    "\n",
    "gdf_States.head(1)"
   ]
  },
  {
   "cell_type": "markdown",
   "metadata": {},
   "source": [
    "# Step 10: Find Representative Negative and Positive Tweets \n",
    "In this step, the code finds representative tweets for positive and negative sentiments related to COVID-19 for each state during both the Trump and Biden administrations. It makes sure that these tweets do not contain inappropriate language. The code selects examples of negative and positive tweets based on sentiment scores and the absence of certain words. These tweets are then merged with the state's geospatial data frame, allowing for the analysis of sentiment at the state level during each administration. The sentiment analysis is conducted separately for Trump and Biden to provide insights into the tone of tweets for both administrations."
   ]
  },
  {
   "cell_type": "code",
   "execution_count": 234,
   "metadata": {},
   "outputs": [
    {
     "data": {
      "text/html": [
       "<div>\n",
       "<style scoped>\n",
       "    .dataframe tbody tr th:only-of-type {\n",
       "        vertical-align: middle;\n",
       "    }\n",
       "\n",
       "    .dataframe tbody tr th {\n",
       "        vertical-align: top;\n",
       "    }\n",
       "\n",
       "    .dataframe thead th {\n",
       "        text-align: right;\n",
       "    }\n",
       "</style>\n",
       "<table border=\"1\" class=\"dataframe\">\n",
       "  <thead>\n",
       "    <tr style=\"text-align: right;\">\n",
       "      <th></th>\n",
       "      <th>geometry</th>\n",
       "      <th>STUSPS</th>\n",
       "      <th>NAME</th>\n",
       "      <th>ALAND</th>\n",
       "      <th>Region</th>\n",
       "      <th>NegScoreChange_COVID</th>\n",
       "      <th>PosScoreChange_COVID</th>\n",
       "      <th>TrumpNegTweetCount_COVID</th>\n",
       "      <th>BidenNegTweetCount_COVID</th>\n",
       "      <th>TrumpPosTweetCount_COVID</th>\n",
       "      <th>BidenPosTweetCount_COVID</th>\n",
       "      <th>TrumpNegTweet_COVID</th>\n",
       "      <th>BidenNegTweet_COVID</th>\n",
       "      <th>TrumpPosTweet_COVID</th>\n",
       "      <th>BidenPosTweet_COVID</th>\n",
       "    </tr>\n",
       "  </thead>\n",
       "  <tbody>\n",
       "    <tr>\n",
       "      <th>0</th>\n",
       "      <td>POLYGON ((-81.74725 39.09538, -81.74635 39.096...</td>\n",
       "      <td>WV</td>\n",
       "      <td>West Virginia</td>\n",
       "      <td>62266231560</td>\n",
       "      <td>South</td>\n",
       "      <td>0.073916</td>\n",
       "      <td>0.006173</td>\n",
       "      <td>814.0</td>\n",
       "      <td>494.0</td>\n",
       "      <td>743.0</td>\n",
       "      <td>696.0</td>\n",
       "      <td>I am so disappointed and disparaged that natio...</td>\n",
       "      <td>I hate Trump for his covid response and the he...</td>\n",
       "      <td>Thanksgiving looked a little different this ye...</td>\n",
       "      <td>Well my mama tested positive for covid on Wedn...</td>\n",
       "    </tr>\n",
       "  </tbody>\n",
       "</table>\n",
       "</div>"
      ],
      "text/plain": [
       "                                            geometry STUSPS           NAME  \\\n",
       "0  POLYGON ((-81.74725 39.09538, -81.74635 39.096...     WV  West Virginia   \n",
       "\n",
       "         ALAND Region  NegScoreChange_COVID  PosScoreChange_COVID  \\\n",
       "0  62266231560  South              0.073916              0.006173   \n",
       "\n",
       "   TrumpNegTweetCount_COVID  BidenNegTweetCount_COVID  \\\n",
       "0                     814.0                     494.0   \n",
       "\n",
       "   TrumpPosTweetCount_COVID  BidenPosTweetCount_COVID  \\\n",
       "0                     743.0                     696.0   \n",
       "\n",
       "                                 TrumpNegTweet_COVID  \\\n",
       "0  I am so disappointed and disparaged that natio...   \n",
       "\n",
       "                                 BidenNegTweet_COVID  \\\n",
       "0  I hate Trump for his covid response and the he...   \n",
       "\n",
       "                                 TrumpPosTweet_COVID  \\\n",
       "0  Thanksgiving looked a little different this ye...   \n",
       "\n",
       "                                 BidenPosTweet_COVID  \n",
       "0  Well my mama tested positive for covid on Wedn...  "
      ]
     },
     "execution_count": 234,
     "metadata": {},
     "output_type": "execute_result"
    }
   ],
   "source": [
    "##### Trump Negative Tweet Examples for each State \n",
    "cond1 = (COVID_Neg.President == 'Trump') & (COVID_Neg.clean_tweets.str.len() > 10) & (\n",
    "    ~COVID_Neg.clean_tweets.str.lower().str.contains('fuck'))\n",
    "idxNeg_T = COVID_Neg[cond1].reset_index().groupby('searched_location').apply(lambda x: x.compound_polarity.idxmin())\n",
    "dfNegTweet_T = COVID_Neg[cond1].reset_index().iloc[idxNeg_T.values, :][['clean_tweets', 'searched_location']].rename(\n",
    "    columns={\"clean_tweets\": 'TrumpNegTweet_COVID\"})\n",
    "# merge this with the state geodataframe\n",
    "gdf_States = pd.merge(gdf_States, dfNegTweet_T, left_on='STUSPS', right_on='searched_location', how='left').drop(\n",
    "    'searched_location', axis=1)\n",
    "\n",
    "##### Biden Negative Tweet Examples for each State \n",
    "cond1 = (COVID_Neg.President == 'Biden') & (COVID_Neg.clean_tweets.str.len() > 10) & (\n",
    "    ~COVID_Neg.clean_tweets.str.lower().str.contains('fuck'))\n",
    "idxNeg_B = COVID_Neg[cond1].reset_index().groupby('searched_location').apply(lambda x: x.compound_polarity.idxmin())\n",
    "dfNegTweet_B = COVID_Neg[cond1].reset_index().iloc[idxNeg_B.values, :][['clean_tweets', 'searched_location']].rename(\n",
    "    columns={\"clean_tweets\": 'BidenNegTweet_COVID\"})\n",
    "# merge this with the state geodataframe\n",
    "gdf_States = pd.merge(gdf_States, dfNegTweet_B, left_on='STUSPS', right_on='searched_location', how='left').drop(\n",
    "    'searched_location', axis=1)\n",
    "\n",
    "##### Trump Positive Tweet Examples for each State \n",
    "cond1 = (COVID_Pos.President == 'Trump') & (COVID_Pos.clean_tweets.str.len() > 10) & (\n",
    "    ~COVID_Pos.clean_tweets.str.lower().str.contains('fuck'))\n",
    "idxPos_T = COVID_Pos[cond1].reset_index().groupby('searched_location').apply(lambda x: x.compound_polarity.idxmax())\n",
    "dfPosTweet_T = COVID_Pos[cond1].reset_index().iloc[idxPos_T.values, :][['clean_tweets', 'searched_location']].rename(\n",
    "    columns={\"clean_tweets\": 'TrumpPosTweet_COVID\"})\n",
    "# merge this with the state geodataframe\n",
    "gdf_States = pd.merge(gdf_States, dfPosTweet_T, left_on='STUSPS', right_on='searched_location', how='left').drop(\n",
    "    'searched_location', axis=1)\n",
    "\n",
    "##### Biden Positive Tweet Examples for each State \n",
    "cond1 = (COVID_Pos.President == 'Biden') & (COVID_Pos.clean_tweets.str.len() > 10) & (\n",
    "    ~COVID_Pos.clean_tweets.str.lower().str.contains('fuck'))\n",
    "idxPos_B = COVID_Pos[cond1].reset_index().groupby('searched_location').apply(lambda x: x.compound_polarity.idxmax())\n",
    "dfPosTweet_B = COVID_Pos[cond1].reset_index().iloc[idxPos_B.values, :][['clean_tweets', 'searched_location']].rename(\n",
    "    columns={\"clean_tweets\": 'BidenPosTweet_COVID\"})\n",
    "# merge this with the state geodataframe\n",
    "gdf_States = pd.merge(gdf_States, dfPosTweet_B, left_on='STUSPS', right_on='searched_location', how='left').drop(\n",
    "    'searched_location', axis=1)\n",
    "\n",
    "gdf_States.head(1)"
   ]
  }
 ],
 "metadata": {
  "kernelspec": {
   "display_name": "Python 3 (ipykernel)",
   "language": "python",
   "name": "python3"
  },
  "language_info": {
   "codemirror_mode": {
    "name": "ipython",
    "version": 3
   },
   "file_extension": ".py",
   "mimetype": "text/x-python",
   "name": "python",
   "nbconvert_exporter": "python",
   "pygments_lexer": "ipython3",
   "version": "3.11.5"
  }
 },
 "nbformat": 4,
 "nbformat_minor": 4
}
